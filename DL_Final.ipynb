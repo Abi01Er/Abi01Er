{
  "nbformat": 4,
  "nbformat_minor": 0,
  "metadata": {
    "colab": {
      "provenance": [],
      "mount_file_id": "1AMHV6gsYPS1I-tQsdGS_dw8qYu-B967t",
      "authorship_tag": "ABX9TyN7vU2p9oZxnokxDbYGO1Us",
      "include_colab_link": true
    },
    "kernelspec": {
      "name": "python3",
      "display_name": "Python 3"
    },
    "language_info": {
      "name": "python"
    }
  },
  "cells": [
    {
      "cell_type": "markdown",
      "metadata": {
        "id": "view-in-github",
        "colab_type": "text"
      },
      "source": [
        "<a href=\"https://colab.research.google.com/github/Abi01Er/Abi01Er/blob/main/DL_Final.ipynb\" target=\"_parent\"><img src=\"https://colab.research.google.com/assets/colab-badge.svg\" alt=\"Open In Colab\"/></a>"
      ]
    },
    {
      "cell_type": "code",
      "source": [
        "from google.colab import drive\n",
        "drive.mount('/content/drive')"
      ],
      "metadata": {
        "id": "2qE546ey14fj",
        "colab": {
          "base_uri": "https://localhost:8080/"
        },
        "outputId": "ebdef0e1-3f20-4148-b66c-0e90490e2da4"
      },
      "execution_count": null,
      "outputs": [
        {
          "output_type": "stream",
          "name": "stdout",
          "text": [
            "Drive already mounted at /content/drive; to attempt to forcibly remount, call drive.mount(\"/content/drive\", force_remount=True).\n"
          ]
        }
      ]
    },
    {
      "cell_type": "code",
      "source": [
        "import os\n",
        "print(os.listdir(\"/content/drive/MyDrive/\"))"
      ],
      "metadata": {
        "id": "BRkMngmT2qku",
        "colab": {
          "base_uri": "https://localhost:8080/"
        },
        "outputId": "a2f6016f-041e-49ca-b8d2-bd8e9a2ff2da"
      },
      "execution_count": null,
      "outputs": [
        {
          "output_type": "stream",
          "name": "stdout",
          "text": [
            "['Colab Notebooks', 'BRAIN TUMOR DETECTION USING EXPLAINABLE AI AND BLOCKCHAIN.pdf', 'Classroom', 'UNIT III_1 - ASYMMETRIC TECHNIQUES_1.pptx', 'agumented data', 'models', 'logs', 'Copy of 1 no.jpeg', 'PO_Data_From_b.abibalu.2002@gmail.com_Create_at_1206.csv', '21NB51 Lab Experiment CA2 (4).pdf', '21NB51 Lab Experiment CA2 (3).pdf', '21NB51 Lab Experiment CA2 (2).pdf', '21NB51 Lab Experiment CA2 (1).pdf', '21NB51 Lab Experiment CA2.pdf', 'Summary.pdf (1).pdf', 'IV report.pdf', 'Summary.pdf.pdf', 'Sem marksheet.pdf', 'Bais and Variance Trade off.pdf', 'confusion Matrix.pdf', 'Machine Learning Introdution.pdf', 'Deep Learning', 'Malware', 'heart.csv', 'kali linux comd', 'SS-Metasploite', 'archive (1)', 'YARA.gdoc', 'data', 'heart_with_mean.csv', 'pimadataorig.csv', 'Iris.csv', 'DeepLearning.csv', 'PO_Data_From_b.abibalu.2002@gmail.com_Create_at_1202.csv', 'VAPT Final Project.pdf']\n"
          ]
        }
      ]
    },
    {
      "cell_type": "code",
      "execution_count": null,
      "metadata": {
        "id": "T9XMYQ_s1ADN"
      },
      "outputs": [],
      "source": [
        "# This Python 3 environment comes with many helpful analytics libraries installed\n",
        "# It is defined by the kaggle/python docker image: https://github.com/kaggle/docker-python\n",
        "# For example, here's several helpful packages to load in\n",
        "\n",
        "import numpy as np # linear algebra\n",
        "import pandas as pd # data processing, CSV file I/O (e.g. pd.read_csv)\n",
        "import matplotlib.pyplot as plt\n",
        "# Input data files are available in the \"../input/\" directory.\n",
        "# For example, running this (by clicking run or pressing Shift+Enter) will list the files in the input directory\n",
        "\n",
        "import os\n",
        "import torch\n",
        "import torch.nn as nn\n",
        "from torch.autograd import Variable\n",
        "from torch.utils.data import DataLoader\n",
        "import pandas as pd\n",
        "from sklearn.model_selection import train_test_split"
      ]
    },
    {
      "cell_type": "code",
      "source": [
        "# Open the file in read mode\n",
        "with open(\"/content/drive/MyDrive/DeepLearning.csv\", \"r\") as file:\n",
        "    # Read the contents of the file\n",
        "    data = file.read()"
      ],
      "metadata": {
        "id": "CEOhO-0Y2dyi"
      },
      "execution_count": null,
      "outputs": []
    },
    {
      "cell_type": "code",
      "source": [
        "# Import Libraries\n",
        "import torch\n",
        "import torch.nn as nn\n",
        "from torch.autograd import Variable"
      ],
      "metadata": {
        "id": "7c_5WOhM1b4i"
      },
      "execution_count": null,
      "outputs": []
    },
    {
      "cell_type": "code",
      "source": [
        "# import numpy library\n",
        "import numpy as np\n",
        "\n",
        "# numpy array\n",
        "array = [[1,2,3],[4,5,6]]\n",
        "first_array = np.array(array) # 2x3 array\n",
        "print(\"Array Type: {}\".format(type(first_array))) # type\n",
        "print(\"Array Shape: {}\".format(np.shape(first_array))) # shape\n",
        "print(first_array)"
      ],
      "metadata": {
        "colab": {
          "base_uri": "https://localhost:8080/"
        },
        "id": "otfN6Gib4Sox",
        "outputId": "ab65adcb-2132-4bf9-b840-8be24aedb037"
      },
      "execution_count": null,
      "outputs": [
        {
          "output_type": "stream",
          "name": "stdout",
          "text": [
            "Array Type: <class 'numpy.ndarray'>\n",
            "Array Shape: (2, 3)\n",
            "[[1 2 3]\n",
            " [4 5 6]]\n"
          ]
        }
      ]
    },
    {
      "cell_type": "code",
      "source": [
        "# import pytorch library\n",
        "import torch\n",
        "\n",
        "# pytorch array\n",
        "tensor = torch.Tensor(array)\n",
        "print(\"Array Type: {}\".format(tensor.type)) # type\n",
        "print(\"Array Shape: {}\".format(tensor.shape)) # shape\n",
        "print(tensor)"
      ],
      "metadata": {
        "colab": {
          "base_uri": "https://localhost:8080/"
        },
        "id": "mws97I_q4VIa",
        "outputId": "0684920a-fc4a-426d-c665-56018ecf329f"
      },
      "execution_count": null,
      "outputs": [
        {
          "output_type": "stream",
          "name": "stdout",
          "text": [
            "Array Type: <built-in method type of Tensor object at 0x7f0c84e53e20>\n",
            "Array Shape: torch.Size([2, 3])\n",
            "tensor([[1., 2., 3.],\n",
            "        [4., 5., 6.]])\n"
          ]
        }
      ]
    },
    {
      "cell_type": "code",
      "source": [
        "# numpy ones\n",
        "print(\"Numpy {}\\n\".format(np.ones((2,3))))\n",
        "\n",
        "# pytorch ones\n",
        "print(torch.ones((2,3)))"
      ],
      "metadata": {
        "colab": {
          "base_uri": "https://localhost:8080/"
        },
        "id": "fG-d99Ip4Xbp",
        "outputId": "4a0d8700-2c2b-499f-93e5-91aecaaa4d70"
      },
      "execution_count": null,
      "outputs": [
        {
          "output_type": "stream",
          "name": "stdout",
          "text": [
            "Numpy [[1. 1. 1.]\n",
            " [1. 1. 1.]]\n",
            "\n",
            "tensor([[1., 1., 1.],\n",
            "        [1., 1., 1.]])\n"
          ]
        }
      ]
    },
    {
      "cell_type": "code",
      "source": [
        "# numpy random\n",
        "print(\"Numpy {}\\n\".format(np.random.rand(2,3)))\n",
        "\n",
        "# pytorch random\n",
        "print(torch.rand(2,3))"
      ],
      "metadata": {
        "colab": {
          "base_uri": "https://localhost:8080/"
        },
        "id": "bSjJqGWp4ZGS",
        "outputId": "5c78fbd3-6975-48ba-ca7b-e45d61536432"
      },
      "execution_count": null,
      "outputs": [
        {
          "output_type": "stream",
          "name": "stdout",
          "text": [
            "Numpy [[0.27438699 0.15078041 0.04409437]\n",
            " [0.46075785 0.24411057 0.7949389 ]]\n",
            "\n",
            "tensor([[0.6790, 0.0784, 0.6116],\n",
            "        [0.8645, 0.6488, 0.0729]])\n"
          ]
        }
      ]
    },
    {
      "cell_type": "code",
      "source": [
        "# random numpy array\n",
        "array = np.random.rand(2,2)\n",
        "print(\"{} {}\\n\".format(type(array),array))\n",
        "\n",
        "# from numpy to tensor\n",
        "from_numpy_to_tensor = torch.from_numpy(array)\n",
        "print(\"{}\\n\".format(from_numpy_to_tensor))\n",
        "\n",
        "# from tensor to numpy\n",
        "tensor = from_numpy_to_tensor\n",
        "from_tensor_to_numpy = tensor.numpy()\n",
        "print(\"{} {}\\n\".format(type(from_tensor_to_numpy),from_tensor_to_numpy))"
      ],
      "metadata": {
        "colab": {
          "base_uri": "https://localhost:8080/"
        },
        "id": "nVEL449t4c6x",
        "outputId": "5a055426-ab76-4a0a-ab6d-354c14a82105"
      },
      "execution_count": null,
      "outputs": [
        {
          "output_type": "stream",
          "name": "stdout",
          "text": [
            "<class 'numpy.ndarray'> [[0.59830837 0.26945637]\n",
            " [0.39166706 0.11637737]]\n",
            "\n",
            "tensor([[0.5983, 0.2695],\n",
            "        [0.3917, 0.1164]], dtype=torch.float64)\n",
            "\n",
            "<class 'numpy.ndarray'> [[0.59830837 0.26945637]\n",
            " [0.39166706 0.11637737]]\n",
            "\n"
          ]
        }
      ]
    },
    {
      "cell_type": "code",
      "source": [
        "# create tensor\n",
        "tensor = torch.ones(3,3)\n",
        "print(\"\\n\",tensor)\n",
        "\n",
        "# Resize\n",
        "print(\"{}{}\\n\".format(tensor.view(9).shape,tensor.view(9)))\n",
        "\n",
        "# Addition\n",
        "print(\"Addition: {}\\n\".format(torch.add(tensor,tensor)))\n",
        "\n",
        "# Subtraction\n",
        "print(\"Subtraction: {}\\n\".format(tensor.sub(tensor)))\n",
        "\n",
        "# Element wise multiplication\n",
        "print(\"Element wise multiplication: {}\\n\".format(torch.mul(tensor,tensor)))\n",
        "\n",
        "# Element wise division\n",
        "print(\"Element wise division: {}\\n\".format(torch.div(tensor,tensor)))\n",
        "\n",
        "# Mean\n",
        "tensor = torch.Tensor([1,2,3,4,5])\n",
        "print(\"Mean: {}\".format(tensor.mean()))\n",
        "\n",
        "# Standart deviation (std)\n",
        "print(\"std: {}\".format(tensor.std()))"
      ],
      "metadata": {
        "colab": {
          "base_uri": "https://localhost:8080/"
        },
        "id": "Pofb1HHK4hRy",
        "outputId": "81a3c73e-d389-41f3-c97a-a61b73cdf4d7"
      },
      "execution_count": null,
      "outputs": [
        {
          "output_type": "stream",
          "name": "stdout",
          "text": [
            "\n",
            " tensor([[1., 1., 1.],\n",
            "        [1., 1., 1.],\n",
            "        [1., 1., 1.]])\n",
            "torch.Size([9])tensor([1., 1., 1., 1., 1., 1., 1., 1., 1.])\n",
            "\n",
            "Addition: tensor([[2., 2., 2.],\n",
            "        [2., 2., 2.],\n",
            "        [2., 2., 2.]])\n",
            "\n",
            "Subtraction: tensor([[0., 0., 0.],\n",
            "        [0., 0., 0.],\n",
            "        [0., 0., 0.]])\n",
            "\n",
            "Element wise multiplication: tensor([[1., 1., 1.],\n",
            "        [1., 1., 1.],\n",
            "        [1., 1., 1.]])\n",
            "\n",
            "Element wise division: tensor([[1., 1., 1.],\n",
            "        [1., 1., 1.],\n",
            "        [1., 1., 1.]])\n",
            "\n",
            "Mean: 3.0\n",
            "std: 1.5811388492584229\n"
          ]
        }
      ]
    },
    {
      "cell_type": "code",
      "source": [
        "# import variable from pytorch library\n",
        "from torch.autograd import Variable\n",
        "\n",
        "# define variable\n",
        "var = Variable(torch.ones(3), requires_grad = True)\n",
        "var"
      ],
      "metadata": {
        "colab": {
          "base_uri": "https://localhost:8080/"
        },
        "id": "TO6NYFwx5xKM",
        "outputId": "b14cabba-e935-44c9-b4ac-1db80d45c142"
      },
      "execution_count": null,
      "outputs": [
        {
          "output_type": "execute_result",
          "data": {
            "text/plain": [
              "tensor([1., 1., 1.], requires_grad=True)"
            ]
          },
          "metadata": {},
          "execution_count": 13
        }
      ]
    },
    {
      "cell_type": "code",
      "source": [
        "# lets make basic backward propagation\n",
        "# we have an equation that is y = x^2\n",
        "array = [2,4]\n",
        "tensor = torch.Tensor(array)\n",
        "x = Variable(tensor, requires_grad = True)\n",
        "y = x**2\n",
        "print(\" y =  \",y)\n",
        "\n",
        "# recap o equation o = 1/2*sum(y)\n",
        "o = (1/2)*sum(y)\n",
        "print(\" o =  \",o)\n",
        "\n",
        "# backward\n",
        "o.backward() # calculates gradients\n",
        "\n",
        "# As I defined, variables accumulates gradients. In this part there is only one variable x.\n",
        "# Therefore variable x should be have gradients\n",
        "# Lets look at gradients with x.grad\n",
        "print(\"gradients: \",x.grad)"
      ],
      "metadata": {
        "colab": {
          "base_uri": "https://localhost:8080/"
        },
        "id": "tzN3wSQN53rP",
        "outputId": "60713f53-a553-4ae8-facf-e2934832e479"
      },
      "execution_count": null,
      "outputs": [
        {
          "output_type": "stream",
          "name": "stdout",
          "text": [
            " y =   tensor([ 4., 16.], grad_fn=<PowBackward0>)\n",
            " o =   tensor(10., grad_fn=<MulBackward0>)\n",
            "gradients:  tensor([2., 4.])\n"
          ]
        }
      ]
    },
    {
      "cell_type": "code",
      "source": [
        "# import variable from pytorch library\n",
        "from torch.autograd import Variable\n",
        "\n",
        "# define variable\n",
        "var = Variable(torch.ones(3), requires_grad = True)\n",
        "var"
      ],
      "metadata": {
        "colab": {
          "base_uri": "https://localhost:8080/"
        },
        "id": "IHeoNf3h4lpB",
        "outputId": "00b85420-65cf-4769-d3d0-c51e4d0d6270"
      },
      "execution_count": null,
      "outputs": [
        {
          "output_type": "execute_result",
          "data": {
            "text/plain": [
              "tensor([1., 1., 1.], requires_grad=True)"
            ]
          },
          "metadata": {},
          "execution_count": 15
        }
      ]
    },
    {
      "cell_type": "code",
      "source": [
        "# lets make basic backward propagation\n",
        "# we have an equation that is y = x^2\n",
        "array = [2,4]\n",
        "tensor = torch.Tensor(array)\n",
        "x = Variable(tensor, requires_grad = True)\n",
        "y = x**2\n",
        "print(\" y =  \",y)\n",
        "\n",
        "# recap o equation o = 1/2*sum(y)\n",
        "o = (1/2)*sum(y)\n",
        "print(\" o =  \",o)\n",
        "\n",
        "# backward\n",
        "o.backward() # calculates gradients\n",
        "\n",
        "# As I defined, variables accumulates gradients. In this part there is only one variable x.\n",
        "# Therefore variable x should be have gradients\n",
        "# Lets look at gradients with x.grad\n",
        "print(\"gradients: \",x.grad)"
      ],
      "metadata": {
        "colab": {
          "base_uri": "https://localhost:8080/"
        },
        "id": "mP_Ixjpu4ofJ",
        "outputId": "31dd9a37-6356-440f-adfc-80c8f35c3401"
      },
      "execution_count": null,
      "outputs": [
        {
          "output_type": "stream",
          "name": "stdout",
          "text": [
            " y =   tensor([ 4., 16.], grad_fn=<PowBackward0>)\n",
            " o =   tensor(10., grad_fn=<MulBackward0>)\n",
            "gradients:  tensor([2., 4.])\n"
          ]
        }
      ]
    },
    {
      "cell_type": "code",
      "source": [],
      "metadata": {
        "id": "0RZhSr6P4phB"
      },
      "execution_count": null,
      "outputs": []
    },
    {
      "cell_type": "code",
      "source": [
        "# Create ANN Model\n",
        "class ANNModel(nn.Module):\n",
        "\n",
        "    def __init__(self, input_dim, hidden_dim, output_dim):\n",
        "        super(ANNModel, self).__init__()\n",
        "\n",
        "        # Linear function 1: 784 --> 150\n",
        "        self.fc1 = nn.Linear(input_dim, hidden_dim)\n",
        "        # Non-linearity 1\n",
        "        self.relu1 = nn.ReLU()\n",
        "\n",
        "        # Linear function 2: 150 --> 150\n",
        "        self.fc2 = nn.Linear(hidden_dim, hidden_dim)\n",
        "        # Non-linearity 2\n",
        "        self.tanh2 = nn.Tanh()\n",
        "\n",
        "        # Linear function 3: 150 --> 150\n",
        "        self.fc3 = nn.Linear(hidden_dim, hidden_dim)\n",
        "        # Non-linearity 3\n",
        "        self.elu3 = nn.ELU()\n",
        "\n",
        "        # Linear function 4 (readout): 150 --> 10\n",
        "        self.fc4 = nn.Linear(hidden_dim, output_dim)\n",
        "\n",
        "    def forward(self, x):\n",
        "        # Linear function 1\n",
        "        out = self.fc1(x)\n",
        "        # Non-linearity 1\n",
        "        out = self.relu1(out)\n",
        "\n",
        "        # Linear function 2\n",
        "        out = self.fc2(out)\n",
        "        # Non-linearity 2\n",
        "        out = self.tanh2(out)\n",
        "\n",
        "        # Linear function 2\n",
        "        out = self.fc3(out)\n",
        "        # Non-linearity 2\n",
        "        out = self.elu3(out)\n",
        "\n",
        "        # Linear function 4 (readout)\n",
        "        out = self.fc4(out)\n",
        "        return out\n",
        "# instantiate ANN\n",
        "input_dim = 28*28\n",
        "hidden_dim = 150 #hidden layer dim is one of the hyper parameter and it should be chosen and tuned. For now I only say 150 there is no reason.\n",
        "output_dim = 10\n",
        "\n",
        "# Create ANN\n",
        "model = ANNModel(input_dim, hidden_dim, output_dim)\n",
        "\n",
        "# Cross Entropy Loss\n",
        "error = nn.CrossEntropyLoss()\n",
        "\n",
        "# SGD Optimizer\n",
        "learning_rate = 0.02\n",
        "optimizer = torch.optim.SGD(model.parameters(), lr=learning_rate)"
      ],
      "metadata": {
        "id": "NYRvalj2217Y"
      },
      "execution_count": null,
      "outputs": []
    },
    {
      "cell_type": "code",
      "source": [
        "# ANN model training\n",
        "count = 0\n",
        "loss_list = []\n",
        "iteration_list = []\n",
        "accuracy_list = []\n",
        "for epoch in range(num_epochs):\n",
        "    for i, (images, labels) in enumerate(train_loader):\n",
        "\n",
        "        train = Variable(images.view(-1, 28*28))\n",
        "        labels = Variable(labels)\n",
        "\n",
        "        # Clear gradients\n",
        "        optimizer.zero_grad()\n",
        "\n",
        "        # Forward propagation\n",
        "        outputs = model(train)\n",
        "\n",
        "        # Calculate softmax and ross entropy loss\n",
        "        loss = error(outputs, labels)\n",
        "\n",
        "        # Calculating gradients\n",
        "        loss.backward()\n",
        "\n",
        "        # Update parameters\n",
        "        optimizer.step()\n",
        "\n",
        "        count += 1\n",
        "\n",
        "        if count % 50 == 0:\n",
        "            # Calculate Accuracy\n",
        "            correct = 0\n",
        "            total = 0\n",
        "            # Predict test dataset\n",
        "            for images, labels in test_loader:\n",
        "\n",
        "                test = Variable(images.view(-1, 28*28))\n",
        "\n",
        "                # Forward propagation\n",
        "                outputs = model(test)\n",
        "\n",
        "                # Get predictions from the maximum value\n",
        "                predicted = torch.max(outputs.data, 1)[1]\n",
        "\n",
        "                # Total number of labels\n",
        "                total += len(labels)\n",
        "\n",
        "                # Total correct predictions\n",
        "                correct += (predicted == labels).sum()\n",
        "\n",
        "            accuracy = 100 * correct / float(total)\n",
        "\n",
        "            # store loss and iteration\n",
        "            loss_list.append(loss.data)\n",
        "            iteration_list.append(count)\n",
        "            accuracy_list.append(accuracy)\n",
        "        if count % 500 == 0:\n",
        "            # Print Loss\n",
        "            print('Iteration: {}  Loss: {}  Accuracy: {} %'.format(count, loss.data, accuracy))"
      ],
      "metadata": {
        "colab": {
          "base_uri": "https://localhost:8080/",
          "height": 211
        },
        "id": "1O_LqlK53H17",
        "outputId": "55fddc14-6d24-4a8a-a114-f87c40ac7ef6"
      },
      "execution_count": null,
      "outputs": [
        {
          "output_type": "error",
          "ename": "NameError",
          "evalue": "name 'num_epochs' is not defined",
          "traceback": [
            "\u001b[0;31m---------------------------------------------------------------------------\u001b[0m",
            "\u001b[0;31mNameError\u001b[0m                                 Traceback (most recent call last)",
            "\u001b[0;32m<ipython-input-19-3da4bc02c3bd>\u001b[0m in \u001b[0;36m<cell line: 6>\u001b[0;34m()\u001b[0m\n\u001b[1;32m      4\u001b[0m \u001b[0miteration_list\u001b[0m \u001b[0;34m=\u001b[0m \u001b[0;34m[\u001b[0m\u001b[0;34m]\u001b[0m\u001b[0;34m\u001b[0m\u001b[0;34m\u001b[0m\u001b[0m\n\u001b[1;32m      5\u001b[0m \u001b[0maccuracy_list\u001b[0m \u001b[0;34m=\u001b[0m \u001b[0;34m[\u001b[0m\u001b[0;34m]\u001b[0m\u001b[0;34m\u001b[0m\u001b[0;34m\u001b[0m\u001b[0m\n\u001b[0;32m----> 6\u001b[0;31m \u001b[0;32mfor\u001b[0m \u001b[0mepoch\u001b[0m \u001b[0;32min\u001b[0m \u001b[0mrange\u001b[0m\u001b[0;34m(\u001b[0m\u001b[0mnum_epochs\u001b[0m\u001b[0;34m)\u001b[0m\u001b[0;34m:\u001b[0m\u001b[0;34m\u001b[0m\u001b[0;34m\u001b[0m\u001b[0m\n\u001b[0m\u001b[1;32m      7\u001b[0m     \u001b[0;32mfor\u001b[0m \u001b[0mi\u001b[0m\u001b[0;34m,\u001b[0m \u001b[0;34m(\u001b[0m\u001b[0mimages\u001b[0m\u001b[0;34m,\u001b[0m \u001b[0mlabels\u001b[0m\u001b[0;34m)\u001b[0m \u001b[0;32min\u001b[0m \u001b[0menumerate\u001b[0m\u001b[0;34m(\u001b[0m\u001b[0mtrain_loader\u001b[0m\u001b[0;34m)\u001b[0m\u001b[0;34m:\u001b[0m\u001b[0;34m\u001b[0m\u001b[0;34m\u001b[0m\u001b[0m\n\u001b[1;32m      8\u001b[0m \u001b[0;34m\u001b[0m\u001b[0m\n",
            "\u001b[0;31mNameError\u001b[0m: name 'num_epochs' is not defined"
          ]
        }
      ]
    },
    {
      "cell_type": "code",
      "source": [
        "# visualization\n",
        "plt.plot(iteration_list,loss_list)\n",
        "plt.xlabel(\"Number of iteration\")\n",
        "plt.ylabel(\"Loss\")\n",
        "plt.title(\"Logistic Regression: Loss vs Number of iteration\")\n",
        "plt.show()"
      ],
      "metadata": {
        "id": "afyZCcWk6SAl"
      },
      "execution_count": null,
      "outputs": []
    },
    {
      "cell_type": "markdown",
      "source": [
        "Artificial Neural Network (ANN)"
      ],
      "metadata": {
        "id": "9THCaiK66X9X"
      }
    },
    {
      "cell_type": "code",
      "source": [
        "# Import Libraries\n",
        "import torch\n",
        "import torch.nn as nn\n",
        "from torch.autograd import Variable"
      ],
      "metadata": {
        "id": "nxbO9sjE6SaT"
      },
      "execution_count": null,
      "outputs": []
    },
    {
      "cell_type": "code",
      "source": [
        "# Create ANN Model\n",
        "class ANNModel(nn.Module):\n",
        "\n",
        "    def __init__(self, input_dim, hidden_dim, output_dim):\n",
        "        super(ANNModel, self).__init__()\n",
        "\n",
        "        # Linear function 1: 784 --> 150\n",
        "        self.fc1 = nn.Linear(input_dim, hidden_dim)\n",
        "        # Non-linearity 1\n",
        "        self.relu1 = nn.ReLU()\n",
        "\n",
        "        # Linear function 2: 150 --> 150\n",
        "        self.fc2 = nn.Linear(hidden_dim, hidden_dim)\n",
        "        # Non-linearity 2\n",
        "        self.tanh2 = nn.Tanh()\n",
        "\n",
        "        # Linear function 3: 150 --> 150\n",
        "        self.fc3 = nn.Linear(hidden_dim, hidden_dim)\n",
        "        # Non-linearity 3\n",
        "        self.elu3 = nn.ELU()\n",
        "\n",
        "        # Linear function 4 (readout): 150 --> 10\n",
        "        self.fc4 = nn.Linear(hidden_dim, output_dim)\n",
        "\n",
        "    def forward(self, x):\n",
        "        # Linear function 1\n",
        "        out = self.fc1(x)\n",
        "        # Non-linearity 1\n",
        "        out = self.relu1(out)\n",
        "\n",
        "        # Linear function 2\n",
        "        out = self.fc2(out)\n",
        "        # Non-linearity 2\n",
        "        out = self.tanh2(out)\n",
        "\n",
        "        # Linear function 2\n",
        "        out = self.fc3(out)\n",
        "        # Non-linearity 2\n",
        "        out = self.elu3(out)\n",
        "\n",
        "        # Linear function 4 (readout)\n",
        "        out = self.fc4(out)\n",
        "        return out\n",
        "        # instantiate ANN\n",
        "input_dim = 28*28\n",
        "hidden_dim = 150 #hidden layer dim is one of the hyper parameter and it should be chosen and tuned. For now I only say 150 there is no reason.\n",
        "output_dim = 10\n",
        "\n",
        "# Create ANN\n",
        "model = ANNModel(input_dim, hidden_dim, output_dim)\n",
        "\n",
        "# Cross Entropy Loss\n",
        "error = nn.CrossEntropyLoss()\n",
        "\n",
        "# SGD Optimizer\n",
        "learning_rate = 0.02\n",
        "optimizer = torch.optim.SGD(model.parameters(), lr=learning_rate)\n"
      ],
      "metadata": {
        "id": "v4pTHdIz6agP"
      },
      "execution_count": null,
      "outputs": []
    },
    {
      "cell_type": "code",
      "source": [
        "# ANN model training\n",
        "count = 0\n",
        "loss_list = []\n",
        "iteration_list = []\n",
        "accuracy_list = []\n",
        "for epoch in range(num_epochs):\n",
        "    for i, (images, labels) in enumerate(train_loader):\n",
        "\n",
        "        train = Variable(images.view(-1, 28*28))\n",
        "        labels = Variable(labels)\n",
        "\n",
        "        # Clear gradients\n",
        "        optimizer.zero_grad()\n",
        "\n",
        "        # Forward propagation\n",
        "        outputs = model(train)\n",
        "\n",
        "        # Calculate softmax and ross entropy loss\n",
        "        loss = error(outputs, labels)\n",
        "\n",
        "        # Calculating gradients\n",
        "        loss.backward()\n",
        "        # Update parameters\n",
        "        optimizer.step()\n",
        "\n",
        "        count += 1\n",
        "\n",
        "        if count % 50 == 0:\n",
        "            # Calculate Accuracy\n",
        "            correct = 0\n",
        "            total = 0\n",
        "            # Predict test dataset\n",
        "            for images, labels in test_loader:\n",
        "\n",
        "                test = Variable(images.view(-1, 28*28))\n",
        "\n",
        "                # Forward propagation\n",
        "                outputs = model(test)\n",
        "\n",
        "                # Get predictions from the maximum value\n",
        "                predicted = torch.max(outputs.data, 1)[1]\n",
        "\n",
        "                # Total number of labels\n",
        "                total += len(labels)\n",
        "                 # Total correct predictions\n",
        "                correct += (predicted == labels).sum()\n",
        "\n",
        "            accuracy = 100 * correct / float(total)\n",
        "\n",
        "            # store loss and iteration\n",
        "            loss_list.append(loss.data)\n",
        "            iteration_list.append(count)\n",
        "            accuracy_list.append(accuracy)\n",
        "        if count % 500 == 0:\n",
        "            # Print Loss\n",
        "            print('Iteration: {}  Loss: {}  Accuracy: {} %'.format(count, loss.data, accuracy))"
      ],
      "metadata": {
        "id": "Zfh2G90X6nX0",
        "outputId": "e8c7d543-8df0-4c66-9822-3250b39deb98",
        "colab": {
          "base_uri": "https://localhost:8080/",
          "height": 211
        }
      },
      "execution_count": null,
      "outputs": [
        {
          "output_type": "error",
          "ename": "NameError",
          "evalue": "name 'num_epochs' is not defined",
          "traceback": [
            "\u001b[0;31m---------------------------------------------------------------------------\u001b[0m",
            "\u001b[0;31mNameError\u001b[0m                                 Traceback (most recent call last)",
            "\u001b[0;32m<ipython-input-22-031ddfa200b6>\u001b[0m in \u001b[0;36m<cell line: 6>\u001b[0;34m()\u001b[0m\n\u001b[1;32m      4\u001b[0m \u001b[0miteration_list\u001b[0m \u001b[0;34m=\u001b[0m \u001b[0;34m[\u001b[0m\u001b[0;34m]\u001b[0m\u001b[0;34m\u001b[0m\u001b[0;34m\u001b[0m\u001b[0m\n\u001b[1;32m      5\u001b[0m \u001b[0maccuracy_list\u001b[0m \u001b[0;34m=\u001b[0m \u001b[0;34m[\u001b[0m\u001b[0;34m]\u001b[0m\u001b[0;34m\u001b[0m\u001b[0;34m\u001b[0m\u001b[0m\n\u001b[0;32m----> 6\u001b[0;31m \u001b[0;32mfor\u001b[0m \u001b[0mepoch\u001b[0m \u001b[0;32min\u001b[0m \u001b[0mrange\u001b[0m\u001b[0;34m(\u001b[0m\u001b[0mnum_epochs\u001b[0m\u001b[0;34m)\u001b[0m\u001b[0;34m:\u001b[0m\u001b[0;34m\u001b[0m\u001b[0;34m\u001b[0m\u001b[0m\n\u001b[0m\u001b[1;32m      7\u001b[0m     \u001b[0;32mfor\u001b[0m \u001b[0mi\u001b[0m\u001b[0;34m,\u001b[0m \u001b[0;34m(\u001b[0m\u001b[0mimages\u001b[0m\u001b[0;34m,\u001b[0m \u001b[0mlabels\u001b[0m\u001b[0;34m)\u001b[0m \u001b[0;32min\u001b[0m \u001b[0menumerate\u001b[0m\u001b[0;34m(\u001b[0m\u001b[0mtrain_loader\u001b[0m\u001b[0;34m)\u001b[0m\u001b[0;34m:\u001b[0m\u001b[0;34m\u001b[0m\u001b[0;34m\u001b[0m\u001b[0m\n\u001b[1;32m      8\u001b[0m \u001b[0;34m\u001b[0m\u001b[0m\n",
            "\u001b[0;31mNameError\u001b[0m: name 'num_epochs' is not defined"
          ]
        }
      ]
    },
    {
      "cell_type": "code",
      "source": [
        "# visualization loss\n",
        "plt.plot(iteration_list,loss_list)\n",
        "plt.xlabel(\"Number of iteration\")\n",
        "plt.ylabel(\"Loss\")\n",
        "plt.title(\"ANN: Loss vs Number of iteration\")\n",
        "plt.show()\n",
        "\n",
        "# visualization accuracy\n",
        "plt.plot(iteration_list,accuracy_list,color = \"red\")\n",
        "plt.xlabel(\"Number of iteration\")\n",
        "plt.ylabel(\"Accuracy\")\n",
        "plt.title(\"ANN: Accuracy vs Number of iteration\")\n",
        "plt.show()"
      ],
      "metadata": {
        "id": "s-1tTrcm6rai",
        "outputId": "17ae4138-a4ee-4a3b-a8e6-79073d4499ae",
        "colab": {
          "base_uri": "https://localhost:8080/",
          "height": 927
        }
      },
      "execution_count": null,
      "outputs": [
        {
          "output_type": "display_data",
          "data": {
            "text/plain": [
              "<Figure size 640x480 with 1 Axes>"
            ],
            "image/png": "[encoded data removed]"
          },
          "metadata": {}
        },
        {
          "output_type": "display_data",
          "data": {
            "text/plain": [
              "<Figure size 640x480 with 1 Axes>"
            ],
            "image/png": "[encoded data removed]"
          },
          "metadata": {}
        }
      ]
    },
    {
      "cell_type": "code",
      "source": [],
      "metadata": {
        "id": "gnAyuoZH6trT"
      },
      "execution_count": null,
      "outputs": []
    }
  ]
}