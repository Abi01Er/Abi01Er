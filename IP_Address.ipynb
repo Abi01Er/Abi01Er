{
  "nbformat": 4,
  "nbformat_minor": 0,
  "metadata": {
    "colab": {
      "provenance": [],
      "authorship_tag": "ABX9TyMa44oeUIOcjVZB91+yfISz",
      "include_colab_link": true
    },
    "kernelspec": {
      "name": "python3",
      "display_name": "Python 3"
    },
    "language_info": {
      "name": "python"
    }
  },
  "cells": [
    {
      "cell_type": "markdown",
      "metadata": {
        "id": "view-in-github",
        "colab_type": "text"
      },
      "source": [
        "<a href=\"https://colab.research.google.com/github/Abi01Er/Abi01Er/blob/main/IP_Address.ipynb\" target=\"_parent\"><img src=\"https://colab.research.google.com/assets/colab-badge.svg\" alt=\"Open In Colab\"/></a>"
      ]
    },
    {
      "cell_type": "code",
      "execution_count": 3,
      "metadata": {
        "colab": {
          "base_uri": "https://localhost:8080/"
        },
        "id": "OeDIlh0-qLGT",
        "outputId": "189ee49d-28df-42de-be71-b3ca81df27ba"
      },
      "outputs": [
        {
          "output_type": "stream",
          "name": "stdout",
          "text": [
            "IP Address           Request Count\n",
            "203.0.113.5          8\n",
            "198.51.100.23        8\n",
            "192.168.1.1          7\n",
            "10.0.0.2             6\n",
            "192.168.1.100        5\n",
            "\n",
            "Most Frequently Accessed Endpoint:\n",
            "/login (Accessed 13 times)\n",
            "\n",
            "Suspicious Activity Detected:\n",
            "No suspicious activity detected.\n",
            "\n",
            "Results saved to log_analysis_results.csv\n"
          ]
        }
      ],
      "source": [
        "import re\n",
        "import csv\n",
        "from collections import defaultdict\n",
        "\n",
        "# Function to parse the log file and return log entries\n",
        "def parse_log_file(file_path):\n",
        "    with open(file_path, 'r') as file:\n",
        "        logs = file.readlines()\n",
        "    return logs\n",
        "\n",
        "# Function to count requests per IP address\n",
        "def count_requests_by_ip(logs):\n",
        "    ip_counts = defaultdict(int)\n",
        "    ip_pattern = r'^(\\d+\\.\\d+\\.\\d+\\.\\d+)'\n",
        "    for log in logs:\n",
        "        match = re.match(ip_pattern, log)\n",
        "        if match:\n",
        "            ip = match.group(1)\n",
        "            ip_counts[ip] += 1\n",
        "    return dict(sorted(ip_counts.items(), key=lambda x: x[1], reverse=True))\n",
        "\n",
        "# Function to find the most frequently accessed endpoint\n",
        "def most_frequent_endpoint(logs):\n",
        "    endpoint_counts = defaultdict(int)\n",
        "    endpoint_pattern = r'\"[A-Z]+\\s(/[^ ]*)\\s'\n",
        "    for log in logs:\n",
        "        match = re.search(endpoint_pattern, log)\n",
        "        if match:\n",
        "            endpoint = match.group(1)\n",
        "            endpoint_counts[endpoint] += 1\n",
        "    most_accessed = max(endpoint_counts.items(), key=lambda x: x[1])\n",
        "    return most_accessed\n",
        "\n",
        "# Function to detect suspicious activity\n",
        "def detect_suspicious_activity(logs, threshold=10):\n",
        "    failed_attempts = defaultdict(int)\n",
        "    failed_pattern = r'^(\\d+\\.\\d+\\.\\d+\\.\\d+).+\"POST\\s.+HTTP/1\\.\\d\"\\s401'\n",
        "    for log in logs:\n",
        "        match = re.search(failed_pattern, log)\n",
        "        if match:\n",
        "            ip = match.group(1)\n",
        "            failed_attempts[ip] += 1\n",
        "    suspicious_ips = {ip: count for ip, count in failed_attempts.items() if count > threshold}\n",
        "    return suspicious_ips\n",
        "\n",
        "# Function to save results to a CSV file\n",
        "def save_to_csv(ip_counts, most_accessed, suspicious_ips, output_file=\"log_analysis_results.csv\"):\n",
        "    with open(output_file, 'w', newline='') as csvfile:\n",
        "        writer = csv.writer(csvfile)\n",
        "\n",
        "        # Requests per IP\n",
        "        writer.writerow([\"IP Address\", \"Request Count\"])\n",
        "        for ip, count in ip_counts.items():\n",
        "            writer.writerow([ip, count])\n",
        "\n",
        "        # Most Accessed Endpoint\n",
        "        writer.writerow([])\n",
        "        writer.writerow([\"Most Frequently Accessed Endpoint\"])\n",
        "        writer.writerow([\"Endpoint\", \"Access Count\"])\n",
        "        writer.writerow([most_accessed[0], most_accessed[1]])\n",
        "\n",
        "        # Suspicious Activity\n",
        "        writer.writerow([])\n",
        "        writer.writerow([\"Suspicious Activity Detected\"])\n",
        "        writer.writerow([\"IP Address\", \"Failed Login Attempts\"])\n",
        "        for ip, count in suspicious_ips.items():\n",
        "            writer.writerow([ip, count])\n",
        "\n",
        "# Main function\n",
        "def main():\n",
        "    log_file = \"sample.log\"\n",
        "    logs = parse_log_file(log_file)\n",
        "\n",
        "    # Analysis\n",
        "    ip_counts = count_requests_by_ip(logs)\n",
        "    most_accessed = most_frequent_endpoint(logs)\n",
        "    suspicious_ips = detect_suspicious_activity(logs)\n",
        "\n",
        "    # Display results\n",
        "    print(\"IP Address           Request Count\")\n",
        "    for ip, count in ip_counts.items():\n",
        "        print(f\"{ip:<20} {count}\")\n",
        "\n",
        "    print(\"\\nMost Frequently Accessed Endpoint:\")\n",
        "    print(f\"{most_accessed[0]} (Accessed {most_accessed[1]} times)\")\n",
        "\n",
        "    print(\"\\nSuspicious Activity Detected:\")\n",
        "    if suspicious_ips:\n",
        "        print(\"IP Address           Failed Login Attempts\")\n",
        "        for ip, count in suspicious_ips.items():\n",
        "            print(f\"{ip:<20} {count}\")\n",
        "    else:\n",
        "        print(\"No suspicious activity detected.\")\n",
        "\n",
        "    # Save results to CSV\n",
        "    save_to_csv(ip_counts, most_accessed, suspicious_ips)\n",
        "    print(\"\\nResults saved to log_analysis_results.csv\")\n",
        "\n",
        "if __name__ == \"__main__\":\n",
        "    main()\n"
      ]
    }
  ]
}